{
 "cells": [
  {
   "cell_type": "code",
   "execution_count": null,
   "id": "ed640f9d-997d-4d1f-80db-8b372ad91d79",
   "metadata": {},
   "outputs": [],
   "source": [
    "cd ../related_post_gen/python"
   ]
  },
  {
   "cell_type": "code",
   "execution_count": null,
   "id": "c3d28ef1-6e3a-415d-93eb-8411248d73b3",
   "metadata": {},
   "outputs": [],
   "source": [
    "from subprocess import run, PIPE, STDOUT\n",
    "from shutil import which\n",
    "import sys\n",
    "from glob import iglob\n",
    "import pandas as pd\n",
    "from io import StringIO\n",
    "from tqdm.notebook import tqdm"
   ]
  },
  {
   "cell_type": "code",
   "execution_count": null,
   "id": "d3045149-a4d4-4dbd-84b0-787b9ec737d0",
   "metadata": {},
   "outputs": [],
   "source": [
    "def python(*args, **kwargs):\n",
    "    result = run([sys.executable, *args], text=True, capture_output=True, **kwargs)\n",
    "    if result.stderr:\n",
    "        print(result.stderr)\n",
    "    result.check_returncode()\n",
    "    return result.stdout\n",
    "print(python(\"--version\"))"
   ]
  },
  {
   "cell_type": "code",
   "execution_count": null,
   "id": "f65524d6-ca1d-4706-88ca-abe38e01ab8b",
   "metadata": {},
   "outputs": [],
   "source": [
    "def git(*args, **kwargs):\n",
    "    result = run([which(\"git\"), *args], text=True, capture_output=True, **kwargs)\n",
    "    if result.returncode:\n",
    "        print(result.stderr)\n",
    "    result.check_returncode()\n",
    "    return result.stdout\n",
    "print(git(\"show\", \"-s\"))"
   ]
  },
  {
   "cell_type": "code",
   "execution_count": null,
   "id": "25499f80-d8b8-4425-af0a-351962ddc5d5",
   "metadata": {},
   "outputs": [],
   "source": [
    "def k_input_columns(k):\n",
    "    assert k in {5, 6}\n",
    "    columns = [\"counter\", \"import\", \"compile\", \"input\", \"process\", \"output\"]\n",
    "    if k == 5:\n",
    "        return columns[:2] + columns[3:]\n",
    "    return columns"
   ]
  },
  {
   "cell_type": "code",
   "execution_count": null,
   "id": "e6418278-4bed-42cd-bdee-023546944f12",
   "metadata": {},
   "outputs": [],
   "source": [
    "TIME_COLUMNS = [\"import\", \"input\", \"process\", \"output\"]"
   ]
  },
  {
   "cell_type": "code",
   "execution_count": null,
   "id": "d00d7059-1609-4618-831b-c932347cc79f",
   "metadata": {},
   "outputs": [],
   "source": [
    "FILES = [\"related.py\", \"related_np.py\", \"related_numba.py\"]"
   ]
  },
  {
   "cell_type": "code",
   "execution_count": null,
   "id": "faa5525c-843e-4c56-9c6b-5d868af7f46b",
   "metadata": {},
   "outputs": [],
   "source": [
    "# from commit that added detiled times to target branch\n",
    "COMMITS = \"0ca6f7eeb7329223976e857036786dbabdfa3898..numba2\""
   ]
  },
  {
   "cell_type": "code",
   "execution_count": null,
   "id": "f4896923-8411-44f1-af7b-004775c41add",
   "metadata": {},
   "outputs": [],
   "source": [
    "N = 20"
   ]
  },
  {
   "cell_type": "code",
   "execution_count": null,
   "id": "d253651a-da77-40bc-b43f-2652ab166197",
   "metadata": {},
   "outputs": [],
   "source": [
    "def profile_file(f, n=N):\n",
    "    print(f)\n",
    "    # warm-up\n",
    "    print(python(f))\n",
    "    print(python(f, env={\"DETAILED_PYTHON_PERF\": \"1\"}))\n",
    "    # measure\n",
    "    buf = \"\\n\".join(python(f, env={\"DETAILED_PYTHON_PERF\": \"1\"}).strip() \n",
    "                    for _ in tqdm(range(n)))\n",
    "    record = pd.read_csv(StringIO(buf), sep=\"\\t\", header=None)\n",
    "    record.columns = k_input_columns(len(record.columns))\n",
    "    record[\"total\"] = record.iloc[:, 1:].sum(axis=1)\n",
    "    record.insert(0, \"impl\", f)\n",
    "    return record"
   ]
  },
  {
   "cell_type": "code",
   "execution_count": null,
   "id": "687324c7-03d8-4d9a-86af-22f8c10f16be",
   "metadata": {},
   "outputs": [],
   "source": [
    "def profile_file_history(f, commits=COMMITS, n=N):\n",
    "    data = []\n",
    "    for i, h in enumerate(git(\"rev-list\", \"--reverse\", commits, \"--\", f).splitlines()):\n",
    "        git(\"checkout\", h)\n",
    "        subj = git(\"show\", \"-s\", \"--format=%s\").strip()\n",
    "        subj = f\"{i:02}: {subj:.18}…\"\n",
    "        print(subj)\n",
    "        record = profile_file(f, n)\n",
    "        record.insert(1, \"commit\", subj)\n",
    "        data.append(record)\n",
    "    return pd.concat(data)\n"
   ]
  },
  {
   "cell_type": "code",
   "execution_count": null,
   "id": "a3ccfea9-aa2a-490c-a6d8-8548996c6f91",
   "metadata": {},
   "outputs": [],
   "source": [
    "times = pd.concat(profile_file_history(f) for f in FILES) "
   ]
  },
  {
   "cell_type": "code",
   "execution_count": null,
   "id": "872f243c-74a6-4d73-99dc-81af4e9a2207",
   "metadata": {},
   "outputs": [],
   "source": [
    "if \"compile\" in times:\n",
    "    times.insert(4, \"compile\", times.pop(\"compile\").fillna(0))"
   ]
  },
  {
   "cell_type": "code",
   "execution_count": null,
   "id": "42a2c969-2855-4d4e-af80-e2f284bf852e",
   "metadata": {},
   "outputs": [],
   "source": [
    "from uncertainties import ufloat\n",
    "\n",
    "def pretty_stddev(df: pd.DataFrame):\n",
    "    return (1000 * df).apply(lambda c: f\"{ufloat(c.mean(), c.std()):.2ufP}\")\n",
    "\n",
    "table = times.groupby([\"impl\", \"counter\", \"commit\"]).apply(pretty_stddev)\n",
    "table"
   ]
  },
  {
   "cell_type": "code",
   "execution_count": null,
   "id": "ed186a0e-cfe6-4df5-b08e-f038b4f9352b",
   "metadata": {},
   "outputs": [],
   "source": [
    "import seaborn as sns\n",
    "from matplotlib import pyplot as plt\n",
    "import warnings\n",
    "warnings.simplefilter(action=\"ignore\", category=FutureWarning)\n",
    "\n",
    "tidy = times.melt(id_vars=[\"impl\", \"commit\", \"counter\"],\n",
    "                  var_name=\"section\", value_name=\"time\")\n",
    "grid = sns.catplot(tidy, hue=\"section\", y=\"commit\", x=\"time\",\n",
    "                   row=\"impl\", col=\"counter\", kind=\"point\",\n",
    "                  sharex=False, sharey=False)\n"
   ]
  },
  {
   "cell_type": "code",
   "execution_count": null,
   "id": "76a4d3a7-d60f-4b52-9655-0178aecf94af",
   "metadata": {},
   "outputs": [],
   "source": [
    "def stddev(df: pd.DataFrame):\n",
    "    return (1000 * df).apply(lambda c: ufloat(c.mean(), c.std()))\n",
    "\n",
    "final_table = times.groupby([\"counter\", \"impl\", \"commit\"]).apply(stddev) \\\n",
    "    .groupby(level=[0,1]).last() \\\n",
    "    .reset_index() \\\n",
    "    .sort_values([\"counter\", \"process\"]) \\\n",
    "    .set_index([\"counter\", \"impl\"]) \\\n",
    "    .map(lambda v: f\"{v:.2ufP}\")\n",
    "final_table"
   ]
  },
  {
   "cell_type": "code",
   "execution_count": null,
   "id": "ba09482d-03ec-4372-8fed-7f53e2504637",
   "metadata": {},
   "outputs": [],
   "source": [
    "order = final_table.loc[\"perf_counter\"].index\n",
    "finals = times[[\"impl\", \"counter\", \"process\", \"total\"]] \\\n",
    "    .groupby([\"impl\", \"counter\"]).last().reset_index() \\\n",
    "    .melt(id_vars=[\"impl\", \"counter\"], var_name=\"section\", value_name=\"time\")\n",
    "sns.catplot(finals, hue=\"section\", y=\"impl\", x=\"time\",\n",
    "            row=\"counter\", kind=\"point\",\n",
    "            order=order)"
   ]
  }
 ],
 "metadata": {
  "kernelspec": {
   "display_name": "Python 3 (ipykernel)",
   "language": "python",
   "name": "python3"
  },
  "language_info": {
   "codemirror_mode": {
    "name": "ipython",
    "version": 3
   },
   "file_extension": ".py",
   "mimetype": "text/x-python",
   "name": "python",
   "nbconvert_exporter": "python",
   "pygments_lexer": "ipython3",
   "version": "3.11.5"
  }
 },
 "nbformat": 4,
 "nbformat_minor": 5
}
